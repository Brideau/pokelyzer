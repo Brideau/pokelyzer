{
 "cells": [
  {
   "cell_type": "code",
   "execution_count": 1,
   "metadata": {
    "collapsed": true
   },
   "outputs": [],
   "source": [
    "import requests\n",
    "import json\n",
    "import pandas as pd\n",
    "from pandas import DataFrame,Series\n",
    "import numpy as np\n",
    "import re\n",
    "import datetime\n",
    "from datetime import timedelta\n",
    "from dateutil import relativedelta\n",
    "import calendar\n",
    "import getpass"
   ]
  },
  {
   "cell_type": "markdown",
   "metadata": {},
   "source": [
    "## Configure your PostgreSQL database info here"
   ]
  },
  {
   "cell_type": "code",
   "execution_count": 2,
   "metadata": {
    "collapsed": false
   },
   "outputs": [
    {
     "name": "stdout",
     "output_type": "stream",
     "text": [
      "········\n"
     ]
    }
   ],
   "source": [
    "host = \"ec2-52-87-185-170.compute-1.amazonaws.com\"\n",
    "db_name = \"pokemon_go\"\n",
    "username = \"pokemon_go_role\"\n",
    "password = getpass.getpass()"
   ]
  },
  {
   "cell_type": "markdown",
   "metadata": {},
   "source": [
    "## Create the Date Table"
   ]
  },
  {
   "cell_type": "code",
   "execution_count": 3,
   "metadata": {
    "collapsed": false
   },
   "outputs": [],
   "source": [
    "years = xrange(2016, 2025)"
   ]
  },
  {
   "cell_type": "code",
   "execution_count": 4,
   "metadata": {
    "collapsed": false
   },
   "outputs": [],
   "source": [
    "start_date = str(datetime.date(years[0], 1, 1))\n",
    "end_date = str(datetime.date(years[-1], 12, 31))"
   ]
  },
  {
   "cell_type": "code",
   "execution_count": 5,
   "metadata": {
    "collapsed": false,
    "scrolled": true
   },
   "outputs": [
    {
     "data": {
      "text/plain": [
       "DatetimeIndex(['2016-01-01', '2016-01-02', '2016-01-03', '2016-01-04',\n",
       "               '2016-01-05', '2016-01-06', '2016-01-07', '2016-01-08',\n",
       "               '2016-01-09', '2016-01-10',\n",
       "               ...\n",
       "               '2024-12-22', '2024-12-23', '2024-12-24', '2024-12-25',\n",
       "               '2024-12-26', '2024-12-27', '2024-12-28', '2024-12-29',\n",
       "               '2024-12-30', '2024-12-31'],\n",
       "              dtype='datetime64[ns]', length=3288, freq='D')"
      ]
     },
     "execution_count": 5,
     "metadata": {},
     "output_type": "execute_result"
    }
   ],
   "source": [
    "all_dates = pd.date_range(start_date, end_date, freq='D')\n",
    "all_dates"
   ]
  },
  {
   "cell_type": "markdown",
   "metadata": {},
   "source": [
    "## All the date functions"
   ]
  },
  {
   "cell_type": "code",
   "execution_count": 6,
   "metadata": {
    "collapsed": true
   },
   "outputs": [],
   "source": [
    "# Given a datetime timestamp, produce a datekey\n",
    "def datetimeToDateKey(date):\n",
    "    date_str = str(date)\n",
    "    date_str = date_str.split(\" \")[0]\n",
    "    date_str = re.sub('-', '', date_str)\n",
    "    return date_str"
   ]
  },
  {
   "cell_type": "code",
   "execution_count": 7,
   "metadata": {
    "collapsed": true
   },
   "outputs": [],
   "source": [
    "# Given a datetime timestamp, convert it to a string of just the date in YYYY-mm-dd format\n",
    "def fullDate(date):\n",
    "    date_str = str(date)\n",
    "    date_str = date_str.split(\" \")[0]\n",
    "    return date_str"
   ]
  },
  {
   "cell_type": "code",
   "execution_count": 8,
   "metadata": {
    "collapsed": true
   },
   "outputs": [],
   "source": [
    "# Returns the weekday as a number\n",
    "def weekdayNum(date):\n",
    "    return date.isoweekday()"
   ]
  },
  {
   "cell_type": "code",
   "execution_count": 9,
   "metadata": {
    "collapsed": false
   },
   "outputs": [],
   "source": [
    "# Returns the weekday as a string in its full-length form\n",
    "def weekdayStr(date):\n",
    "    return date.strftime(\"%A\")"
   ]
  },
  {
   "cell_type": "code",
   "execution_count": 10,
   "metadata": {
    "collapsed": false
   },
   "outputs": [],
   "source": [
    "# Returns the weekday as a string in its abbreviated form\n",
    "def weekdayStrAbv(date):\n",
    "    return date.strftime(\"%a\")"
   ]
  },
  {
   "cell_type": "code",
   "execution_count": 11,
   "metadata": {
    "collapsed": false
   },
   "outputs": [],
   "source": [
    "# Returns the day of the month\n",
    "def dayNumMonth(date):\n",
    "    return date.day"
   ]
  },
  {
   "cell_type": "code",
   "execution_count": 12,
   "metadata": {
    "collapsed": true
   },
   "outputs": [],
   "source": [
    "# Numbers each day, constantly increasing from the first day\n",
    "def dayNumOverall(date):\n",
    "    day_one = all_dates[0]\n",
    "    date_diff = date - day_one\n",
    "    return date_diff.days + 1"
   ]
  },
  {
   "cell_type": "code",
   "execution_count": 13,
   "metadata": {
    "collapsed": false
   },
   "outputs": [],
   "source": [
    "# Returns the day of the month\n",
    "def isWeekday(date):\n",
    "    if date.isoweekday() in range(1,6):\n",
    "        return \"Weekday\"\n",
    "    else:\n",
    "        return \"Weekend\""
   ]
  },
  {
   "cell_type": "code",
   "execution_count": 14,
   "metadata": {
    "collapsed": false
   },
   "outputs": [],
   "source": [
    "# Returns the day of the month\n",
    "def weekNum(date):\n",
    "    return date.isocalendar()[1]"
   ]
  },
  {
   "cell_type": "code",
   "execution_count": 15,
   "metadata": {
    "collapsed": true
   },
   "outputs": [],
   "source": [
    "def weekBeginDate(date):\n",
    "    dow = date.isoweekday()\n",
    "    week_start = date - timedelta(days=(dow - 1))\n",
    "    return week_start"
   ]
  },
  {
   "cell_type": "code",
   "execution_count": 16,
   "metadata": {
    "collapsed": true
   },
   "outputs": [],
   "source": [
    "def weekBeginDateKey(date):\n",
    "    week_begin_date = weekBeginDate(date)\n",
    "    date_key = datetimeToDateKey(week_begin_date)\n",
    "    return date_key"
   ]
  },
  {
   "cell_type": "code",
   "execution_count": 17,
   "metadata": {
    "collapsed": true
   },
   "outputs": [],
   "source": [
    "# Numbers each day, constantly increasing from the first day\n",
    "def weekNumOverall(date):\n",
    "    # Find the date that the first week in the entire data set starts\n",
    "    first_day = all_dates[0]\n",
    "    first_week_start = weekBeginDate(first_day)\n",
    "    \n",
    "    # Find the date that starts the week of the current date\n",
    "    curr_week_start = weekBeginDate(date)\n",
    "    \n",
    "    # Get the difference and find out how many weeks have passed\n",
    "    date_diff = curr_week_start - first_week_start\n",
    "    week_number = int(date_diff.days / 7.0 + 1.0)\n",
    "    return week_number"
   ]
  },
  {
   "cell_type": "code",
   "execution_count": 18,
   "metadata": {
    "collapsed": true
   },
   "outputs": [],
   "source": [
    "# Returns the weekday as a number\n",
    "def monthNum(date):\n",
    "    return date.month"
   ]
  },
  {
   "cell_type": "code",
   "execution_count": 19,
   "metadata": {
    "collapsed": true
   },
   "outputs": [],
   "source": [
    "# Returns the weekday as a number\n",
    "def monthNumOverall(date):\n",
    "    start_date = all_dates[0]\n",
    "    rel_date = relativedelta.relativedelta(date, start_date)\n",
    "    month_diff = rel_date.years * 12 + rel_date.months\n",
    "    return month_diff + 1"
   ]
  },
  {
   "cell_type": "code",
   "execution_count": 20,
   "metadata": {
    "collapsed": false
   },
   "outputs": [],
   "source": [
    "# Returns the month as a string in its full-length form\n",
    "def monthStr(date):\n",
    "    return date.strftime(\"%B\")"
   ]
  },
  {
   "cell_type": "code",
   "execution_count": 21,
   "metadata": {
    "collapsed": false
   },
   "outputs": [],
   "source": [
    "# Returns the month as a string in its abbreviated form\n",
    "def monthStrAbv(date):\n",
    "    return date.strftime(\"%b\")"
   ]
  },
  {
   "cell_type": "code",
   "execution_count": 22,
   "metadata": {
    "collapsed": false
   },
   "outputs": [],
   "source": [
    "# Returns the quarter in the year\n",
    "def quarter(date):\n",
    "    month = date.month\n",
    "    quarter = month / 4 + 1\n",
    "    return quarter"
   ]
  },
  {
   "cell_type": "code",
   "execution_count": 23,
   "metadata": {
    "collapsed": false
   },
   "outputs": [],
   "source": [
    "# Returns the year as a string\n",
    "def year(date):\n",
    "    return date.strftime(\"%Y\")"
   ]
  },
  {
   "cell_type": "code",
   "execution_count": 24,
   "metadata": {
    "collapsed": false
   },
   "outputs": [],
   "source": [
    "# Returns the year and month as a concatenated string\n",
    "def yearmo(date):\n",
    "    year = date.strftime(\"%Y\")\n",
    "    month = date.strftime(\"%m\")\n",
    "    return year + month"
   ]
  },
  {
   "cell_type": "code",
   "execution_count": 25,
   "metadata": {
    "collapsed": true
   },
   "outputs": [],
   "source": [
    "# Returns whether or not the date is the last day of the month\n",
    "def isMonthEnd(date):\n",
    "    year = date.year\n",
    "    month = date.month\n",
    "    \n",
    "    month_end = calendar.monthrange(year, month)[1]\n",
    "    \n",
    "    if (month_end == date.day):\n",
    "        return \"Month End\"\n",
    "    else:\n",
    "        return \"Not Month End\""
   ]
  },
  {
   "cell_type": "code",
   "execution_count": 26,
   "metadata": {
    "collapsed": false
   },
   "outputs": [],
   "source": [
    "# Use the date functions to make a dateframe\n",
    "\n",
    "# Dates\n",
    "date_dim = DataFrame(all_dates, columns=[\"full_date\"])\n",
    "date_dim[\"date_key\"] = date_dim[\"full_date\"].map(datetimeToDateKey)\n",
    "date_dim = date_dim[['date_key', 'full_date']] # Reorder\n",
    "\n",
    "# Days of Week\n",
    "date_dim[\"day_of_week\"] = date_dim[\"full_date\"].map(weekdayNum)\n",
    "date_dim[\"day_of_week_name\"] = date_dim[\"full_date\"].map(weekdayStr)\n",
    "date_dim[\"day_of_week_name_abbrev\"] = date_dim[\"full_date\"].map(weekdayStrAbv)\n",
    "\n",
    "date_dim[\"day_of_month\"] = date_dim[\"full_date\"].map(dayNumMonth)\n",
    "date_dim[\"day_number_overall\"] = date_dim[\"full_date\"].map(dayNumOverall)\n",
    "date_dim[\"day_number_overall\"] = date_dim[\"full_date\"].map(dayNumOverall)\n",
    "\n",
    "date_dim[\"weekday_flag\"] = date_dim[\"full_date\"].map(isWeekday)\n",
    "date_dim[\"week_number\"] = date_dim[\"full_date\"].map(weekNum)\n",
    "date_dim[\"week_number_overall\"] = date_dim[\"full_date\"].map(weekNumOverall)\n",
    "\n",
    "date_dim[\"week_begin_date\"] = date_dim[\"full_date\"].map(weekBeginDate)\n",
    "date_dim[\"week_begin_date_key\"] = date_dim[\"full_date\"].map(weekBeginDateKey)\n",
    "\n",
    "date_dim[\"month_number\"] = date_dim[\"full_date\"].map(monthNum)\n",
    "date_dim[\"month_number_overall\"] = date_dim[\"full_date\"].map(monthNumOverall)\n",
    "date_dim[\"month\"] = date_dim[\"full_date\"].map(monthStr)\n",
    "date_dim[\"month_abbrev\"] = date_dim[\"full_date\"].map(monthStrAbv)\n",
    "\n",
    "date_dim[\"quarter\"] = date_dim[\"full_date\"].map(quarter)\n",
    "\n",
    "date_dim[\"year\"] = date_dim[\"full_date\"].map(year)\n",
    "date_dim[\"year_month\"] = date_dim[\"full_date\"].map(yearmo)\n",
    "\n",
    "date_dim[\"month_end_flag\"] = date_dim[\"full_date\"].map(isMonthEnd)"
   ]
  },
  {
   "cell_type": "markdown",
   "metadata": {
    "collapsed": true
   },
   "source": [
    "## Create the Time Table"
   ]
  },
  {
   "cell_type": "code",
   "execution_count": 27,
   "metadata": {
    "collapsed": true
   },
   "outputs": [],
   "source": [
    "from datetime import time\n",
    "import math"
   ]
  },
  {
   "cell_type": "code",
   "execution_count": 28,
   "metadata": {
    "collapsed": true
   },
   "outputs": [],
   "source": [
    "# 1440 minutes in a day\n",
    "minutes = xrange(0,1440)"
   ]
  },
  {
   "cell_type": "code",
   "execution_count": 29,
   "metadata": {
    "collapsed": true
   },
   "outputs": [],
   "source": [
    "# Given a minute number, return the 12-hour time label\n",
    "def time_label_12(min_num):\n",
    "    hours, minutes = divmod(min_num, 60)\n",
    "    timestamp = time(hour=hours, minute=minutes)\n",
    "    return time.strftime(timestamp, '%I:%M %p')"
   ]
  },
  {
   "cell_type": "code",
   "execution_count": 30,
   "metadata": {
    "collapsed": true
   },
   "outputs": [],
   "source": [
    "# Given a minute number, return the 24-hour time label\n",
    "def time_label_24(min_num):\n",
    "    hours, minutes = divmod(min_num, 60)\n",
    "    timestamp = time(hour=hours, minute=minutes)\n",
    "    return time.strftime(timestamp, '%H:%M')"
   ]
  },
  {
   "cell_type": "code",
   "execution_count": 31,
   "metadata": {
    "collapsed": true
   },
   "outputs": [],
   "source": [
    "# Given a minute number, return the 15 minute interval it occures in\n",
    "def time_interval_15_min(min_num):\n",
    "    return int(math.floor(min_num / 15.0))"
   ]
  },
  {
   "cell_type": "code",
   "execution_count": 32,
   "metadata": {
    "collapsed": true
   },
   "outputs": [],
   "source": [
    "# Given a minute number, return the 30 minute interval it occures in\n",
    "def time_interval_30_min(min_num):\n",
    "    return int(math.floor(min_num / 30.0))"
   ]
  },
  {
   "cell_type": "code",
   "execution_count": 33,
   "metadata": {
    "collapsed": true
   },
   "outputs": [],
   "source": [
    "# Given a minute number, return the 60 minute interval it occures in\n",
    "def time_interval_60_min(min_num):\n",
    "    return int(math.floor(min_num / 60.0))"
   ]
  },
  {
   "cell_type": "code",
   "execution_count": 34,
   "metadata": {
    "collapsed": true
   },
   "outputs": [],
   "source": [
    "# Given a minute number, return the 12-hour time label \n",
    "# with only hours (this takes up less space and is useful in some cases)\n",
    "def label_hh(min_num):\n",
    "    hours, minutes = divmod(min_num, 60)\n",
    "    timestamp = time(hour=hours, minute=minutes)\n",
    "    return time.strftime(timestamp, '%I %p')"
   ]
  },
  {
   "cell_type": "code",
   "execution_count": 35,
   "metadata": {
    "collapsed": true
   },
   "outputs": [],
   "source": [
    "# Given a minute number, return the 24-hour time label with just hours\n",
    "def label_hh24(min_num):\n",
    "    hours, minutes = divmod(min_num, 60)\n",
    "    timestamp = time(hour=hours, minute=minutes)\n",
    "    return time.strftime(timestamp, '%H')"
   ]
  },
  {
   "cell_type": "code",
   "execution_count": 36,
   "metadata": {
    "collapsed": true
   },
   "outputs": [],
   "source": [
    "# Given a minute number, return the 15 minute interval label for a 24-hour clock\n",
    "def label_15_min_24(min_num):\n",
    "    interval_num = time_interval_15_min(min_num)\n",
    "    int_min_num = interval_num * 15\n",
    "    hours, minutes = divmod(int_min_num, 60)\n",
    "    timestamp = time(hour=hours, minute=minutes)\n",
    "    return time.strftime(timestamp, '%H:%M')"
   ]
  },
  {
   "cell_type": "code",
   "execution_count": 37,
   "metadata": {
    "collapsed": true
   },
   "outputs": [],
   "source": [
    "# Given a minute number, return the 30 minute interval label for a 24-hour clock\n",
    "def label_30_min_24(min_num):\n",
    "    interval_num = time_interval_30_min(min_num)\n",
    "    int_min_num = interval_num * 30\n",
    "    hours, minutes = divmod(int_min_num, 60)\n",
    "    timestamp = time(hour=hours, minute=minutes)\n",
    "    return time.strftime(timestamp, '%H:%M')"
   ]
  },
  {
   "cell_type": "code",
   "execution_count": 38,
   "metadata": {
    "collapsed": true
   },
   "outputs": [],
   "source": [
    "# Given a minute number, return the 60 minute interval label for a 24-hour clock\n",
    "def label_60_min_24(min_num):\n",
    "    interval_num = time_interval_60_min(min_num)\n",
    "    int_min_num = interval_num * 60\n",
    "    hours, minutes = divmod(int_min_num, 60)\n",
    "    timestamp = time(hour=hours, minute=minutes)\n",
    "    return time.strftime(timestamp, '%H:%M')"
   ]
  },
  {
   "cell_type": "code",
   "execution_count": 39,
   "metadata": {
    "collapsed": true
   },
   "outputs": [],
   "source": [
    "# Given a minute number, return the 15 minute interval label for a 12-hour clock\n",
    "def label_15_min_12(min_num):\n",
    "    interval_num = time_interval_15_min(min_num)\n",
    "    int_min_num = interval_num * 15\n",
    "    hours, minutes = divmod(int_min_num, 60)\n",
    "    timestamp = time(hour=hours, minute=minutes)\n",
    "    return time.strftime(timestamp, '%I:%M %p')"
   ]
  },
  {
   "cell_type": "code",
   "execution_count": 40,
   "metadata": {
    "collapsed": true
   },
   "outputs": [],
   "source": [
    "# Given a minute number, return the 30 minute interval label for a 12-hour clock\n",
    "def label_30_min_12(min_num):\n",
    "    interval_num = time_interval_30_min(min_num)\n",
    "    int_min_num = interval_num * 30\n",
    "    hours, minutes = divmod(int_min_num, 60)\n",
    "    timestamp = time(hour=hours, minute=minutes)\n",
    "    return time.strftime(timestamp, '%I:%M %p')"
   ]
  },
  {
   "cell_type": "code",
   "execution_count": 41,
   "metadata": {
    "collapsed": true
   },
   "outputs": [],
   "source": [
    "# Given a miute number, return the 60 minute interval label for a 12-hour clock\n",
    "def label_60_min_12(min_num):\n",
    "    interval_num = time_interval_60_min(min_num)\n",
    "    int_min_num = interval_num * 60\n",
    "    hours, minutes = divmod(int_min_num, 60)\n",
    "    timestamp = time(hour=hours, minute=minutes)\n",
    "    return time.strftime(timestamp, '%I:%M %p')"
   ]
  },
  {
   "cell_type": "code",
   "execution_count": 42,
   "metadata": {
    "collapsed": false,
    "scrolled": true
   },
   "outputs": [],
   "source": [
    "time_dim = DataFrame(Series(minutes), columns=[\"time_key\"])\n",
    "time_dim[\"time_label_24\"] = time_dim[\"time_key\"].map(time_label_24)\n",
    "time_dim[\"time_label_12\"] = time_dim[\"time_key\"].map(time_label_12)\n",
    "\n",
    "time_dim[\"time_interval_15min\"] = time_dim[\"time_key\"].map(time_interval_15_min)\n",
    "time_dim[\"time_interval_30min\"] = time_dim[\"time_key\"].map(time_interval_30_min)\n",
    "time_dim[\"time_interval_60min\"] = time_dim[\"time_key\"].map(time_interval_60_min)\n",
    "\n",
    "time_dim[\"label_hh\"] = time_dim[\"time_key\"].map(label_hh)\n",
    "time_dim[\"label_hh24\"] = time_dim[\"time_key\"].map(label_hh24)\n",
    "\n",
    "time_dim[\"label_15min_24\"] = time_dim[\"time_key\"].map(label_15_min_24)\n",
    "time_dim[\"label_30min_24\"] = time_dim[\"time_key\"].map(label_30_min_24)\n",
    "time_dim[\"label_60min_24\"] = time_dim[\"time_key\"].map(label_60_min_24)\n",
    "\n",
    "time_dim[\"label_15min_12\"] = time_dim[\"time_key\"].map(label_15_min_12)\n",
    "time_dim[\"label_30min_12\"] = time_dim[\"time_key\"].map(label_30_min_12)\n",
    "time_dim[\"label_60min_12\"] = time_dim[\"time_key\"].map(label_60_min_12)"
   ]
  },
  {
   "cell_type": "markdown",
   "metadata": {},
   "source": [
    "## Write the data to the database"
   ]
  },
  {
   "cell_type": "code",
   "execution_count": 43,
   "metadata": {
    "collapsed": false
   },
   "outputs": [],
   "source": [
    "import psycopg2\n",
    "from sqlalchemy import create_engine"
   ]
  },
  {
   "cell_type": "code",
   "execution_count": 44,
   "metadata": {
    "collapsed": false
   },
   "outputs": [
    {
     "data": {
      "text/html": [
       "<div>\n",
       "<table border=\"1\" class=\"dataframe\">\n",
       "  <thead>\n",
       "    <tr style=\"text-align: right;\">\n",
       "      <th></th>\n",
       "      <th>date_key</th>\n",
       "      <th>full_date</th>\n",
       "      <th>day_of_week</th>\n",
       "      <th>day_of_week_name</th>\n",
       "      <th>day_of_week_name_abbrev</th>\n",
       "      <th>day_of_month</th>\n",
       "      <th>day_number_overall</th>\n",
       "      <th>weekday_flag</th>\n",
       "      <th>week_number</th>\n",
       "      <th>week_number_overall</th>\n",
       "      <th>week_begin_date</th>\n",
       "      <th>week_begin_date_key</th>\n",
       "      <th>month_number</th>\n",
       "      <th>month_number_overall</th>\n",
       "      <th>month</th>\n",
       "      <th>month_abbrev</th>\n",
       "      <th>quarter</th>\n",
       "      <th>year</th>\n",
       "      <th>year_month</th>\n",
       "      <th>month_end_flag</th>\n",
       "    </tr>\n",
       "  </thead>\n",
       "  <tbody>\n",
       "    <tr>\n",
       "      <th>0</th>\n",
       "      <td>20160101</td>\n",
       "      <td>2016-01-01</td>\n",
       "      <td>5</td>\n",
       "      <td>Friday</td>\n",
       "      <td>Fri</td>\n",
       "      <td>1</td>\n",
       "      <td>1</td>\n",
       "      <td>Weekday</td>\n",
       "      <td>53</td>\n",
       "      <td>1</td>\n",
       "      <td>2015-12-28</td>\n",
       "      <td>20151228</td>\n",
       "      <td>1</td>\n",
       "      <td>1</td>\n",
       "      <td>January</td>\n",
       "      <td>Jan</td>\n",
       "      <td>1</td>\n",
       "      <td>2016</td>\n",
       "      <td>201601</td>\n",
       "      <td>Not Month End</td>\n",
       "    </tr>\n",
       "    <tr>\n",
       "      <th>1</th>\n",
       "      <td>20160102</td>\n",
       "      <td>2016-01-02</td>\n",
       "      <td>6</td>\n",
       "      <td>Saturday</td>\n",
       "      <td>Sat</td>\n",
       "      <td>2</td>\n",
       "      <td>2</td>\n",
       "      <td>Weekend</td>\n",
       "      <td>53</td>\n",
       "      <td>1</td>\n",
       "      <td>2015-12-28</td>\n",
       "      <td>20151228</td>\n",
       "      <td>1</td>\n",
       "      <td>1</td>\n",
       "      <td>January</td>\n",
       "      <td>Jan</td>\n",
       "      <td>1</td>\n",
       "      <td>2016</td>\n",
       "      <td>201601</td>\n",
       "      <td>Not Month End</td>\n",
       "    </tr>\n",
       "    <tr>\n",
       "      <th>2</th>\n",
       "      <td>20160103</td>\n",
       "      <td>2016-01-03</td>\n",
       "      <td>7</td>\n",
       "      <td>Sunday</td>\n",
       "      <td>Sun</td>\n",
       "      <td>3</td>\n",
       "      <td>3</td>\n",
       "      <td>Weekend</td>\n",
       "      <td>53</td>\n",
       "      <td>1</td>\n",
       "      <td>2015-12-28</td>\n",
       "      <td>20151228</td>\n",
       "      <td>1</td>\n",
       "      <td>1</td>\n",
       "      <td>January</td>\n",
       "      <td>Jan</td>\n",
       "      <td>1</td>\n",
       "      <td>2016</td>\n",
       "      <td>201601</td>\n",
       "      <td>Not Month End</td>\n",
       "    </tr>\n",
       "    <tr>\n",
       "      <th>3</th>\n",
       "      <td>20160104</td>\n",
       "      <td>2016-01-04</td>\n",
       "      <td>1</td>\n",
       "      <td>Monday</td>\n",
       "      <td>Mon</td>\n",
       "      <td>4</td>\n",
       "      <td>4</td>\n",
       "      <td>Weekday</td>\n",
       "      <td>1</td>\n",
       "      <td>2</td>\n",
       "      <td>2016-01-04</td>\n",
       "      <td>20160104</td>\n",
       "      <td>1</td>\n",
       "      <td>1</td>\n",
       "      <td>January</td>\n",
       "      <td>Jan</td>\n",
       "      <td>1</td>\n",
       "      <td>2016</td>\n",
       "      <td>201601</td>\n",
       "      <td>Not Month End</td>\n",
       "    </tr>\n",
       "    <tr>\n",
       "      <th>4</th>\n",
       "      <td>20160105</td>\n",
       "      <td>2016-01-05</td>\n",
       "      <td>2</td>\n",
       "      <td>Tuesday</td>\n",
       "      <td>Tue</td>\n",
       "      <td>5</td>\n",
       "      <td>5</td>\n",
       "      <td>Weekday</td>\n",
       "      <td>1</td>\n",
       "      <td>2</td>\n",
       "      <td>2016-01-04</td>\n",
       "      <td>20160104</td>\n",
       "      <td>1</td>\n",
       "      <td>1</td>\n",
       "      <td>January</td>\n",
       "      <td>Jan</td>\n",
       "      <td>1</td>\n",
       "      <td>2016</td>\n",
       "      <td>201601</td>\n",
       "      <td>Not Month End</td>\n",
       "    </tr>\n",
       "  </tbody>\n",
       "</table>\n",
       "</div>"
      ],
      "text/plain": [
       "   date_key  full_date  day_of_week day_of_week_name day_of_week_name_abbrev  \\\n",
       "0  20160101 2016-01-01            5           Friday                     Fri   \n",
       "1  20160102 2016-01-02            6         Saturday                     Sat   \n",
       "2  20160103 2016-01-03            7           Sunday                     Sun   \n",
       "3  20160104 2016-01-04            1           Monday                     Mon   \n",
       "4  20160105 2016-01-05            2          Tuesday                     Tue   \n",
       "\n",
       "   day_of_month  day_number_overall weekday_flag  week_number  \\\n",
       "0             1                   1      Weekday           53   \n",
       "1             2                   2      Weekend           53   \n",
       "2             3                   3      Weekend           53   \n",
       "3             4                   4      Weekday            1   \n",
       "4             5                   5      Weekday            1   \n",
       "\n",
       "   week_number_overall week_begin_date week_begin_date_key  month_number  \\\n",
       "0                    1      2015-12-28            20151228             1   \n",
       "1                    1      2015-12-28            20151228             1   \n",
       "2                    1      2015-12-28            20151228             1   \n",
       "3                    2      2016-01-04            20160104             1   \n",
       "4                    2      2016-01-04            20160104             1   \n",
       "\n",
       "   month_number_overall    month month_abbrev  quarter  year year_month  \\\n",
       "0                     1  January          Jan        1  2016     201601   \n",
       "1                     1  January          Jan        1  2016     201601   \n",
       "2                     1  January          Jan        1  2016     201601   \n",
       "3                     1  January          Jan        1  2016     201601   \n",
       "4                     1  January          Jan        1  2016     201601   \n",
       "\n",
       "  month_end_flag  \n",
       "0  Not Month End  \n",
       "1  Not Month End  \n",
       "2  Not Month End  \n",
       "3  Not Month End  \n",
       "4  Not Month End  "
      ]
     },
     "execution_count": 44,
     "metadata": {},
     "output_type": "execute_result"
    }
   ],
   "source": [
    "date_dim.head()"
   ]
  },
  {
   "cell_type": "code",
   "execution_count": 45,
   "metadata": {
    "collapsed": false,
    "scrolled": true
   },
   "outputs": [
    {
     "data": {
      "text/html": [
       "<div>\n",
       "<table border=\"1\" class=\"dataframe\">\n",
       "  <thead>\n",
       "    <tr style=\"text-align: right;\">\n",
       "      <th></th>\n",
       "      <th>time_key</th>\n",
       "      <th>time_label_24</th>\n",
       "      <th>time_label_12</th>\n",
       "      <th>time_interval_15min</th>\n",
       "      <th>time_interval_30min</th>\n",
       "      <th>time_interval_60min</th>\n",
       "      <th>label_hh</th>\n",
       "      <th>label_hh24</th>\n",
       "      <th>label_15min_24</th>\n",
       "      <th>label_30min_24</th>\n",
       "      <th>label_60min_24</th>\n",
       "      <th>label_15min_12</th>\n",
       "      <th>label_30min_12</th>\n",
       "      <th>label_60min_12</th>\n",
       "    </tr>\n",
       "  </thead>\n",
       "  <tbody>\n",
       "    <tr>\n",
       "      <th>0</th>\n",
       "      <td>0</td>\n",
       "      <td>00:00</td>\n",
       "      <td>12:00 AM</td>\n",
       "      <td>0</td>\n",
       "      <td>0</td>\n",
       "      <td>0</td>\n",
       "      <td>12 AM</td>\n",
       "      <td>00</td>\n",
       "      <td>00:00</td>\n",
       "      <td>00:00</td>\n",
       "      <td>00:00</td>\n",
       "      <td>12:00 AM</td>\n",
       "      <td>12:00 AM</td>\n",
       "      <td>12:00 AM</td>\n",
       "    </tr>\n",
       "    <tr>\n",
       "      <th>1</th>\n",
       "      <td>1</td>\n",
       "      <td>00:01</td>\n",
       "      <td>12:01 AM</td>\n",
       "      <td>0</td>\n",
       "      <td>0</td>\n",
       "      <td>0</td>\n",
       "      <td>12 AM</td>\n",
       "      <td>00</td>\n",
       "      <td>00:00</td>\n",
       "      <td>00:00</td>\n",
       "      <td>00:00</td>\n",
       "      <td>12:00 AM</td>\n",
       "      <td>12:00 AM</td>\n",
       "      <td>12:00 AM</td>\n",
       "    </tr>\n",
       "    <tr>\n",
       "      <th>2</th>\n",
       "      <td>2</td>\n",
       "      <td>00:02</td>\n",
       "      <td>12:02 AM</td>\n",
       "      <td>0</td>\n",
       "      <td>0</td>\n",
       "      <td>0</td>\n",
       "      <td>12 AM</td>\n",
       "      <td>00</td>\n",
       "      <td>00:00</td>\n",
       "      <td>00:00</td>\n",
       "      <td>00:00</td>\n",
       "      <td>12:00 AM</td>\n",
       "      <td>12:00 AM</td>\n",
       "      <td>12:00 AM</td>\n",
       "    </tr>\n",
       "    <tr>\n",
       "      <th>3</th>\n",
       "      <td>3</td>\n",
       "      <td>00:03</td>\n",
       "      <td>12:03 AM</td>\n",
       "      <td>0</td>\n",
       "      <td>0</td>\n",
       "      <td>0</td>\n",
       "      <td>12 AM</td>\n",
       "      <td>00</td>\n",
       "      <td>00:00</td>\n",
       "      <td>00:00</td>\n",
       "      <td>00:00</td>\n",
       "      <td>12:00 AM</td>\n",
       "      <td>12:00 AM</td>\n",
       "      <td>12:00 AM</td>\n",
       "    </tr>\n",
       "    <tr>\n",
       "      <th>4</th>\n",
       "      <td>4</td>\n",
       "      <td>00:04</td>\n",
       "      <td>12:04 AM</td>\n",
       "      <td>0</td>\n",
       "      <td>0</td>\n",
       "      <td>0</td>\n",
       "      <td>12 AM</td>\n",
       "      <td>00</td>\n",
       "      <td>00:00</td>\n",
       "      <td>00:00</td>\n",
       "      <td>00:00</td>\n",
       "      <td>12:00 AM</td>\n",
       "      <td>12:00 AM</td>\n",
       "      <td>12:00 AM</td>\n",
       "    </tr>\n",
       "  </tbody>\n",
       "</table>\n",
       "</div>"
      ],
      "text/plain": [
       "   time_key time_label_24 time_label_12  time_interval_15min  \\\n",
       "0         0         00:00      12:00 AM                    0   \n",
       "1         1         00:01      12:01 AM                    0   \n",
       "2         2         00:02      12:02 AM                    0   \n",
       "3         3         00:03      12:03 AM                    0   \n",
       "4         4         00:04      12:04 AM                    0   \n",
       "\n",
       "   time_interval_30min  time_interval_60min label_hh label_hh24  \\\n",
       "0                    0                    0    12 AM         00   \n",
       "1                    0                    0    12 AM         00   \n",
       "2                    0                    0    12 AM         00   \n",
       "3                    0                    0    12 AM         00   \n",
       "4                    0                    0    12 AM         00   \n",
       "\n",
       "  label_15min_24 label_30min_24 label_60min_24 label_15min_12 label_30min_12  \\\n",
       "0          00:00          00:00          00:00       12:00 AM       12:00 AM   \n",
       "1          00:00          00:00          00:00       12:00 AM       12:00 AM   \n",
       "2          00:00          00:00          00:00       12:00 AM       12:00 AM   \n",
       "3          00:00          00:00          00:00       12:00 AM       12:00 AM   \n",
       "4          00:00          00:00          00:00       12:00 AM       12:00 AM   \n",
       "\n",
       "  label_60min_12  \n",
       "0       12:00 AM  \n",
       "1       12:00 AM  \n",
       "2       12:00 AM  \n",
       "3       12:00 AM  \n",
       "4       12:00 AM  "
      ]
     },
     "execution_count": 45,
     "metadata": {},
     "output_type": "execute_result"
    }
   ],
   "source": [
    "time_dim.head()"
   ]
  },
  {
   "cell_type": "code",
   "execution_count": 46,
   "metadata": {
    "collapsed": false
   },
   "outputs": [],
   "source": [
    "## Export each to a CSV first so that we can use the COPY command. It's substantially more efficient.\n",
    "date_dim.to_csv(path_or_buf=\"./date_dim.csv\", index=False)\n",
    "time_dim.to_csv(path_or_buf=\"./time_dim.csv\", index=False)"
   ]
  },
  {
   "cell_type": "markdown",
   "metadata": {},
   "source": [
    "### Create the database table the lazy way\n",
    "We want to load the data from the CSV to save time, but we also want to programmatically create the table in postgres. This simply takes our dataframe, removes all the data but keeps the column names, and uses that to create the table. It also gives them appropriate data types (most of the time). Then, we fill the table with a copy command."
   ]
  },
  {
   "cell_type": "code",
   "execution_count": 47,
   "metadata": {
    "collapsed": false
   },
   "outputs": [],
   "source": [
    "engine = create_engine('postgresql://' + username + ':' + password + '@' + host + '/' + db_name)"
   ]
  },
  {
   "cell_type": "code",
   "execution_count": 48,
   "metadata": {
    "collapsed": false
   },
   "outputs": [],
   "source": [
    "empty_date_dim = date_dim.copy()\n",
    "empty_date_dim = empty_date_dim.drop(empty_date_dim.index[0:date_dim.shape[0]])\n",
    "empty_date_dim.to_sql(\"date_dimension\", engine, if_exists=\"replace\", index=False)"
   ]
  },
  {
   "cell_type": "code",
   "execution_count": 49,
   "metadata": {
    "collapsed": true
   },
   "outputs": [],
   "source": [
    "empty_time_dim = time_dim.copy()\n",
    "empty_time_dim = empty_time_dim.drop(empty_time_dim.index[0:time_dim.shape[0]])\n",
    "empty_time_dim.to_sql(\"time_dimension\", engine, if_exists=\"replace\", index=False)"
   ]
  },
  {
   "cell_type": "markdown",
   "metadata": {},
   "source": [
    "We have to create a new connection here. The above uses sqlalchemy, which then itself uses psycopg2, but we want to use psycopg2 directly."
   ]
  },
  {
   "cell_type": "code",
   "execution_count": 50,
   "metadata": {
    "collapsed": false
   },
   "outputs": [],
   "source": [
    "connection_string = \"dbname='\" + db_name + \"' \"\n",
    "connection_string += \"user='\" + username + \"' \"\n",
    "connection_string += \"host='\" + host + \"' \"\n",
    "connection_string += \"password='\" + password + \"' \""
   ]
  },
  {
   "cell_type": "code",
   "execution_count": 51,
   "metadata": {
    "collapsed": true
   },
   "outputs": [],
   "source": [
    "# Set up a copy statement. The %s will be replaced later\n",
    "sql_statement = \"\"\"\n",
    "    COPY %s FROM STDIN WITH\n",
    "    CSV\n",
    "    HEADER\n",
    "    DELIMITER AS ','\n",
    "\"\"\""
   ]
  },
  {
   "cell_type": "code",
   "execution_count": 52,
   "metadata": {
    "collapsed": true
   },
   "outputs": [],
   "source": [
    "def load_file(conn, table_name, primary_key, file_object):\n",
    "    cursor = conn.cursor()\n",
    "    cursor.copy_expert(sql=sql_statement % table_name, file=file_object)\n",
    "    conn.commit()\n",
    "    \n",
    "    # Add add primary key, index and then vacuum \n",
    "    cursor.execute(\"ALTER TABLE \" + table_name + \" ADD  PRIMARY KEY (\" + primary_key + \")\")\n",
    "    cursor.execute(\"VACUUM VERBOSE ANALYZE \" + table_name)\n",
    "    cursor.execute(\"CREATE INDEX ON \" + table_name + \" (\" + primary_key + \" ASC NULLS LAST);\")\n",
    "    cursor.close()"
   ]
  },
  {
   "cell_type": "code",
   "execution_count": 53,
   "metadata": {
    "collapsed": false
   },
   "outputs": [
    {
     "data": {
      "text/plain": [
       "<open file './date_dim.csv', mode 'r' at 0x1148f5f60>"
      ]
     },
     "execution_count": 53,
     "metadata": {},
     "output_type": "execute_result"
    }
   ],
   "source": [
    "date_dim_file = open(\"./date_dim.csv\")\n",
    "date_dim_file"
   ]
  },
  {
   "cell_type": "code",
   "execution_count": 54,
   "metadata": {
    "collapsed": false
   },
   "outputs": [
    {
     "data": {
      "text/plain": [
       "<open file './time_dim.csv', mode 'r' at 0x1148f5ed0>"
      ]
     },
     "execution_count": 54,
     "metadata": {},
     "output_type": "execute_result"
    }
   ],
   "source": [
    "time_dim_file = open(\"./time_dim.csv\")\n",
    "time_dim_file"
   ]
  },
  {
   "cell_type": "code",
   "execution_count": 55,
   "metadata": {
    "collapsed": false
   },
   "outputs": [],
   "source": [
    "conn = psycopg2.connect(connection_string)\n",
    "conn.autocommit = True\n",
    "try:\n",
    "    load_file(conn, table_name='date_dimension', primary_key=\"date_key\", file_object=date_dim_file)\n",
    "finally:\n",
    "    conn.close()"
   ]
  },
  {
   "cell_type": "code",
   "execution_count": 56,
   "metadata": {
    "collapsed": false
   },
   "outputs": [],
   "source": [
    "conn = psycopg2.connect(connection_string)\n",
    "conn.autocommit = True\n",
    "try:\n",
    "    load_file(conn, table_name='time_dimension', primary_key=\"time_key\", file_object=time_dim_file)\n",
    "finally:\n",
    "    conn.close()"
   ]
  },
  {
   "cell_type": "code",
   "execution_count": null,
   "metadata": {
    "collapsed": true
   },
   "outputs": [],
   "source": []
  }
 ],
 "metadata": {
  "kernelspec": {
   "display_name": "Python 2",
   "language": "python",
   "name": "python2"
  },
  "language_info": {
   "codemirror_mode": {
    "name": "ipython",
    "version": 2
   },
   "file_extension": ".py",
   "mimetype": "text/x-python",
   "name": "python",
   "nbconvert_exporter": "python",
   "pygments_lexer": "ipython2",
   "version": "2.7.9"
  }
 },
 "nbformat": 4,
 "nbformat_minor": 0
}
